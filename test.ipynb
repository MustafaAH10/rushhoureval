{
 "cells": [
  {
   "cell_type": "code",
   "execution_count": 2,
   "id": "d3baab2f",
   "metadata": {},
   "outputs": [
    {
     "name": "stdout",
     "output_type": "stream",
     "text": [
      "Solutions found: 118\n",
      "Solutions found & optimal length: 68\n"
     ]
    }
   ],
   "source": [
    "import pandas as pd\n",
    "\n",
    "# Load your CSV (update filename if needed)\n",
    "df = pd.read_csv(\"/home/mustafaah/rushhoureval/models/gpt5/results5x5/gpt5_5x5_inference_summary_20250826_174618.csv\")\n",
    "\n",
    "# Count how many solutions were found\n",
    "solutions_found = df[\"solution_found\"].sum()\n",
    "\n",
    "# Count how many solutions were found AND lengths matched optimal\n",
    "solutions_and_optimal = ((df[\"solution_found\"] == True) & \n",
    "                         (df[\"length_matches_optimal\"] == True)).sum()\n",
    "\n",
    "print(f\"Solutions found: {solutions_found}\")\n",
    "print(f\"Solutions found & optimal length: {solutions_and_optimal}\")\n"
   ]
  }
 ],
 "metadata": {
  "kernelspec": {
   "display_name": "rushhour",
   "language": "python",
   "name": "python3"
  },
  "language_info": {
   "codemirror_mode": {
    "name": "ipython",
    "version": 3
   },
   "file_extension": ".py",
   "mimetype": "text/x-python",
   "name": "python",
   "nbconvert_exporter": "python",
   "pygments_lexer": "ipython3",
   "version": "3.12.3"
  }
 },
 "nbformat": 4,
 "nbformat_minor": 5
}
